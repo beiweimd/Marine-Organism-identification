{
 "cells": [
  {
   "cell_type": "code",
   "execution_count": 1,
   "id": "75183404",
   "metadata": {},
   "outputs": [],
   "source": [
    "from pathlib import Path\n",
    "import random, json\n",
    "import random"
   ]
  },
  {
   "cell_type": "code",
   "execution_count": 2,
   "id": "3382ba57",
   "metadata": {},
   "outputs": [],
   "source": [
    "ROOT = Path(\".\").resolve()\n",
    "SEED = 20251011\n",
    "VAL_RATIO = 0.2  # 验证集比例；train = 1 - VAL_RATIO\n",
    "\n",
    "PAIRS = [\n",
    "    (\"AA_half\", \"AA_half_txt\"),\n",
    "    (\"QS\",      \"QS_txt\"),\n",
    "    (\"T\",       \"T_txt\"),\n",
    "]\n",
    "\n",
    "IMG_EXTS = {\".jpg\", \".jpeg\", \".png\", \".bmp\", \".tif\", \".tiff\", \".webp\"}\n",
    "\n",
    "def find_label(lbl_dir: Path, stem: str):\n",
    "    \"\"\"在标签目录找与 stem 同名的 .txt（大小写不敏感，含子目录）。\"\"\"\n",
    "    p = lbl_dir / f\"{stem}.txt\"\n",
    "    if p.exists():\n",
    "        return p\n",
    "    p2 = lbl_dir / f\"{stem}.TXT\"\n",
    "    if p2.exists():\n",
    "        return p2\n",
    "    for q in lbl_dir.rglob(stem + \".*\"):\n",
    "        if q.suffix.lower() == \".txt\":\n",
    "            return q\n",
    "    return None"
   ]
  },
  {
   "cell_type": "code",
   "execution_count": 3,
   "id": "22c6fdd0",
   "metadata": {},
   "outputs": [
    {
     "name": "stdout",
     "output_type": "stream",
     "text": [
      "[AA_half] matched=164  train=131  val=33\n",
      "[QS] matched=82  train=66  val=16\n",
      "[T] matched=35  train=28  val=7\n",
      "OK -> 生成 train_list.txt / val_list.txt\n"
     ]
    }
   ],
   "source": [
    "random.seed(SEED)\n",
    "train_lines, val_lines = [], []\n",
    "\n",
    "for img_dir_name, lbl_dir_name in PAIRS:\n",
    "    img_dir = ROOT / img_dir_name\n",
    "    lbl_dir = ROOT / lbl_dir_name\n",
    "    assert img_dir.exists(), f\"缺少图片目录: {img_dir}\"\n",
    "    assert lbl_dir.exists(), f\"缺少标签目录: {lbl_dir}\"\n",
    "\n",
    "    # 仅收集“图片有同名txt”的样本\n",
    "    pairs = []\n",
    "    for img in sorted(img_dir.rglob(\"*\")):\n",
    "        if img.is_file() and img.suffix.lower() in IMG_EXTS:\n",
    "            lab = find_label(lbl_dir, img.stem)\n",
    "            if lab is not None:\n",
    "                pairs.append((img.relative_to(ROOT), lab.relative_to(ROOT)))\n",
    "\n",
    "    n = len(pairs)\n",
    "    if n == 0:\n",
    "        print(f\"[WARN] {img_dir_name}: 没有匹配上的样本。\")\n",
    "        continue\n",
    "\n",
    "    random.shuffle(pairs)\n",
    "    n_train = int(round(n * (1 - VAL_RATIO)))\n",
    "    tr, va = pairs[:n_train], pairs[n_train:]\n",
    "\n",
    "    train_lines += [f\"{a.as_posix()} {b.as_posix()}\" for a, b in tr]\n",
    "    val_lines   += [f\"{a.as_posix()} {b.as_posix()}\" for a, b in va]\n",
    "\n",
    "    print(f\"[{img_dir_name}] matched={n}  train={len(tr)}  val={len(va)}\")\n",
    "\n",
    "Path(\"train_list.txt\").write_text(\"\\n\".join(train_lines), encoding=\"utf-8\")\n",
    "Path(\"val_list.txt\").write_text(\"\\n\".join(val_lines), encoding=\"utf-8\")\n",
    "print(\"OK -> 生成 train_list.txt / val_list.txt\")"
   ]
  },
  {
   "cell_type": "code",
   "execution_count": null,
   "id": "c7eb2e19",
   "metadata": {},
   "outputs": [],
   "source": []
  }
 ],
 "metadata": {
  "kernelspec": {
   "display_name": "yolov8",
   "language": "python",
   "name": "python3"
  },
  "language_info": {
   "codemirror_mode": {
    "name": "ipython",
    "version": 3
   },
   "file_extension": ".py",
   "mimetype": "text/x-python",
   "name": "python",
   "nbconvert_exporter": "python",
   "pygments_lexer": "ipython3",
   "version": "3.10.18"
  }
 },
 "nbformat": 4,
 "nbformat_minor": 5
}
